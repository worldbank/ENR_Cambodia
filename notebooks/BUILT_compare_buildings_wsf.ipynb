{
 "cells": [
  {
   "cell_type": "code",
   "execution_count": 2,
   "metadata": {},
   "outputs": [],
   "source": [
    "import sys, os\n",
    "import rasterio\n",
    "\n",
    "import pandas as pd\n",
    "import geopandas as gpd\n",
    "import numpy as np\n",
    "\n",
    "from shapely.wkt import loads\n",
    "\n",
    "sys.path.insert(0, \"../src\")\n",
    "\n",
    "import GOSTrocks.rasterMisc as rMisc\n",
    "import GOSTrocks.dataMisc as dMisc\n",
    "\n",
    "%load_ext autoreload\n",
    "%autoreload 2"
   ]
  },
  {
   "cell_type": "code",
   "execution_count": 3,
   "metadata": {},
   "outputs": [
    {
     "name": "stderr",
     "output_type": "stream",
     "text": [
      "C:\\Users\\WB411133\\AppData\\Local\\Temp\\ipykernel_26056\\3528700091.py:18: FutureWarning: The geopandas.dataset module is deprecated and will be removed in GeoPandas 1.0. You can get the original 'naturalearth_lowres' data from https://www.naturalearthdata.com/downloads/110m-cultural-vectors/.\n",
      "  world_filepath = gpd.datasets.get_path('naturalearth_lowres')\n"
     ]
    }
   ],
   "source": [
    "# Local/input files\n",
    "iso3 = 'KHM'\n",
    "out_folder = \"c:/WBG/Work/KHM_Energy/data\"\n",
    "wsf_file = os.path.join(out_folder, \"WSF\", \"wsf.tif\")\n",
    "ghsl_file = os.path.join(out_folder, \"GHSL\", \"ghsl.tif\")\n",
    "overture_buildings = os.path.join(out_folder, \"overture\", \"overture_download_2024_03_29.csv\")\n",
    "overture_raster = os.path.join(out_folder, \"overture\", \"overture_download_2024_03_29.tif\")\n",
    "overture_raster_points = os.path.join(out_folder, \"overture\", \"overture_download_2024_03_29_points.tif\")\n",
    "\n",
    "google_buildings = os.path.join(out_folder, \"Google_Buildings\", \"311_buildings.csv\")\n",
    "google_raster = os.path.join(out_folder, \"Google_Buildings\", \"311_buildings.tif\")\n",
    "google_raster_points = os.path.join(out_folder, \"Google_Buildings\", \"311_buildings_points.tif\")\n",
    "for file in [wsf_file, ghsl_file]:\n",
    "    if not os.path.exists(os.path.dirname(file)):\n",
    "        os.makedirs(os.path.dirname(file))\n",
    "\n",
    "# get country extent from geopandas\n",
    "world_filepath = gpd.datasets.get_path('naturalearth_lowres')\n",
    "world = gpd.read_file(world_filepath)\n",
    "country = world[world.iso_a3 == iso3]"
   ]
  },
  {
   "cell_type": "code",
   "execution_count": null,
   "metadata": {},
   "outputs": [],
   "source": [
    "\"\"\" Not working with World Bank Firewall\n",
    "# Download the WSF data\n",
    "if not os.path.exists(wsf_file):\n",
    "    print(\"Downloading WSF data\")\n",
    "    wsf_data, wsf_profile = dMisc.download_WSF(country, out_file = wsf_file)\n",
    "\n",
    "wsf_r = rasterio.open(wsf_file)\n",
    "\"\"\"\n",
    "print(\"FUBAR\")"
   ]
  },
  {
   "cell_type": "code",
   "execution_count": 13,
   "metadata": {},
   "outputs": [],
   "source": [
    "#Clip GHSL using local files\n",
    "local_version = r\"J:\\Data\\GLOBAL\\GHSL\\Built\\GHS_BUILT_S_E2020_GLOBE_R2023A_54009_100_V1_0.tif\"\n",
    "if not os.path.exists(ghsl_file):\n",
    "    ghsl_raster = rasterio.open(local_version)\n",
    "    data, profile = rMisc.clipRaster(ghsl_raster, country)\n",
    "    with rasterio.open(ghsl_file, 'w', **profile) as dst:\n",
    "        dst.write(data)\n",
    "ghsl_r = rasterio.open(ghsl_file)"
   ]
  },
  {
   "cell_type": "code",
   "execution_count": 4,
   "metadata": {},
   "outputs": [
    {
     "data": {
      "text/html": [
       "<div>\n",
       "<style scoped>\n",
       "    .dataframe tbody tr th:only-of-type {\n",
       "        vertical-align: middle;\n",
       "    }\n",
       "\n",
       "    .dataframe tbody tr th {\n",
       "        vertical-align: top;\n",
       "    }\n",
       "\n",
       "    .dataframe thead th {\n",
       "        text-align: right;\n",
       "    }\n",
       "</style>\n",
       "<table border=\"1\" class=\"dataframe\">\n",
       "  <thead>\n",
       "    <tr style=\"text-align: right;\">\n",
       "      <th></th>\n",
       "      <th>latitude</th>\n",
       "      <th>longitude</th>\n",
       "      <th>area_in_meters</th>\n",
       "      <th>confidence</th>\n",
       "      <th>geometry</th>\n",
       "      <th>full_plus_code</th>\n",
       "    </tr>\n",
       "  </thead>\n",
       "  <tbody>\n",
       "    <tr>\n",
       "      <th>0</th>\n",
       "      <td>13.522077</td>\n",
       "      <td>101.216031</td>\n",
       "      <td>92.9937</td>\n",
       "      <td>0.8560</td>\n",
       "      <td>POLYGON((101.216096132875 13.5220590997704, 10...</td>\n",
       "      <td>7P53G6C8+RCJ5</td>\n",
       "    </tr>\n",
       "    <tr>\n",
       "      <th>1</th>\n",
       "      <td>10.941230</td>\n",
       "      <td>105.193386</td>\n",
       "      <td>26.2096</td>\n",
       "      <td>0.7669</td>\n",
       "      <td>POLYGON((105.193413459308 10.9412118246212, 10...</td>\n",
       "      <td>7P27W5RV+F9R7</td>\n",
       "    </tr>\n",
       "    <tr>\n",
       "      <th>2</th>\n",
       "      <td>11.055472</td>\n",
       "      <td>105.636249</td>\n",
       "      <td>122.0114</td>\n",
       "      <td>0.7124</td>\n",
       "      <td>POLYGON((105.6362994 11.0554098, 105.6363091 1...</td>\n",
       "      <td>7P373J4P+5FQX</td>\n",
       "    </tr>\n",
       "    <tr>\n",
       "      <th>3</th>\n",
       "      <td>10.714396</td>\n",
       "      <td>103.813111</td>\n",
       "      <td>75.0603</td>\n",
       "      <td>0.7619</td>\n",
       "      <td>POLYGON((103.813151906226 10.7143466112636, 10...</td>\n",
       "      <td>7P25PR77+Q65W</td>\n",
       "    </tr>\n",
       "    <tr>\n",
       "      <th>4</th>\n",
       "      <td>14.213793</td>\n",
       "      <td>101.339616</td>\n",
       "      <td>8.7935</td>\n",
       "      <td>0.7022</td>\n",
       "      <td>POLYGON((101.339628618998 14.2137778129493, 10...</td>\n",
       "      <td>7P63687Q+GR9P</td>\n",
       "    </tr>\n",
       "  </tbody>\n",
       "</table>\n",
       "</div>"
      ],
      "text/plain": [
       "    latitude   longitude  area_in_meters  confidence  \\\n",
       "0  13.522077  101.216031         92.9937      0.8560   \n",
       "1  10.941230  105.193386         26.2096      0.7669   \n",
       "2  11.055472  105.636249        122.0114      0.7124   \n",
       "3  10.714396  103.813111         75.0603      0.7619   \n",
       "4  14.213793  101.339616          8.7935      0.7022   \n",
       "\n",
       "                                            geometry full_plus_code  \n",
       "0  POLYGON((101.216096132875 13.5220590997704, 10...  7P53G6C8+RCJ5  \n",
       "1  POLYGON((105.193413459308 10.9412118246212, 10...  7P27W5RV+F9R7  \n",
       "2  POLYGON((105.6362994 11.0554098, 105.6363091 1...  7P373J4P+5FQX  \n",
       "3  POLYGON((103.813151906226 10.7143466112636, 10...  7P25PR77+Q65W  \n",
       "4  POLYGON((101.339628618998 14.2137778129493, 10...  7P63687Q+GR9P  "
      ]
     },
     "execution_count": 4,
     "metadata": {},
     "output_type": "execute_result"
    }
   ],
   "source": [
    "# read in an process Google buildings\n",
    "google_buildings = pd.read_csv(google_buildings)\n",
    "google_buildings['geometry'] = google_buildings['geometry'].apply(loads)\n",
    "inG = gpd.GeoDataFrame(google_buildings, geometry = 'geometry', crs=4326)\n",
    "inG.head()"
   ]
  },
  {
   "cell_type": "code",
   "execution_count": 9,
   "metadata": {},
   "outputs": [
    {
     "name": "stderr",
     "output_type": "stream",
     "text": [
      "C:\\Users\\WB411133\\AppData\\Local\\Temp\\ipykernel_26056\\3879913162.py:11: UserWarning: Geometry is in a geographic CRS. Results from 'centroid' are likely incorrect. Use 'GeoSeries.to_crs()' to re-project geometries to a projected CRS before this operation.\n",
      "\n",
      "  inG_points['geometry'] = inG_points['geometry'].centroid\n"
     ]
    }
   ],
   "source": [
    "# attempt to rasterrize the buildings as polygons\n",
    "if not os.path.exists(google_raster):\n",
    "    rasterized_buildings = rMisc.rasterizeDataFrame(inG, '', templateRaster=ghsl_file, mergeAlg=\"ADD\", re_proj=True, nodata=0.)\n",
    "    with rasterio.open(google_raster, 'w', **rasterized_buildings['meta']) as dst:\n",
    "        dst.write_band(1, rasterized_buildings['vals'])\n",
    "google_r = rasterio.open(google_raster)\n",
    "\n",
    "# attempt to rasterrize the buildings as points\n",
    "if not os.path.exists(google_raster_points):\n",
    "    inG_points = inG.copy()\n",
    "    inG_points['geometry'] = inG_points['geometry'].centroid\n",
    "    rasterized_buildings = rMisc.rasterizeDataFrame(inG_points, '', templateRaster=ghsl_file, mergeAlg=\"ADD\", re_proj=True, nodata=0.)\n",
    "    with rasterio.open(google_raster_points, 'w', **rasterized_buildings['meta']) as dst:\n",
    "        dst.write_band(1, rasterized_buildings['vals'])\n",
    "google_r_points = rasterio.open(google_raster_points) "
   ]
  },
  {
   "cell_type": "code",
   "execution_count": 15,
   "metadata": {},
   "outputs": [],
   "source": [
    "# Compare rasterized buildings with built area dataset\n",
    "### Open both datasets and threshold them to get built area data\n",
    "g_thresh = 1\n",
    "ghsl_thresh = 3000\n",
    "\n",
    "g_data = google_r_points.read(1)\n",
    "g_data = (g_data > g_thresh).astype('uint8')\n",
    "\n",
    "ghsl_data = ghsl_r.read(1)\n",
    "ghsl_data = (ghsl_data > ghsl_thresh).astype('uint8') * 10\n",
    "\n",
    "combo_data = g_data + ghsl_data\n",
    "\n",
    "# Write out the combined data\n",
    "out_file = os.path.join(out_folder, \"google_vs_ghsl.tif\")\n",
    "if not os.path.exists(out_file):\n",
    "    meta = overture_r_points.meta.copy()\n",
    "    meta.update(dtype=rasterio.uint8, nodata=0)\n",
    "    with rasterio.open(out_file, 'w', **meta) as out_raster:\n",
    "        out_raster.write_band(1, combo_data)"
   ]
  },
  {
   "cell_type": "code",
   "execution_count": null,
   "metadata": {},
   "outputs": [],
   "source": [
    "# read in and process Overture buildings\n",
    "ob = pd.read_csv(overture_buildings)\n",
    "ob_geoms = ob['wkt'].apply(loads)\n",
    "inB = gpd.GeoDataFrame(ob, geometry=ob_geoms, crs=4326)\n",
    "inB.head()\n"
   ]
  },
  {
   "cell_type": "code",
   "execution_count": null,
   "metadata": {},
   "outputs": [],
   "source": [
    "# attempt to rasterrize the buildings as polygons\n",
    "if not os.path.exists(overture_raster):\n",
    "    rasterized_buildings = rMisc.rasterizeDataFrame(inB, templateRaster=ghsl_file, mergeAlg=\"ADD\", re_proj=True, nodata=0.)\n",
    "    with rasterio.open(overture_raster, 'w', **rasterized_buildings['meta']) as dst:\n",
    "        dst.write_band(1, rasterized_buildings['vals'])\n",
    "overture_r = rasterio.open(overture_raster)"
   ]
  },
  {
   "cell_type": "code",
   "execution_count": null,
   "metadata": {},
   "outputs": [],
   "source": [
    "# attempt to rasterrize the buildings as points\n",
    "if not os.path.exists(overture_raster_points):\n",
    "    inB_points = inB.copy()\n",
    "    inB_points['geometry'] = inB_points['geometry'].centroid\n",
    "    rasterized_buildings = rMisc.rasterizeDataFrame(inB_points, templateRaster=ghsl_file, mergeAlg=\"ADD\", re_proj=True, nodata=0.)\n",
    "    with rasterio.open(overture_raster_points, 'w', **rasterized_buildings['meta']) as dst:\n",
    "        dst.write_band(1, rasterized_buildings['vals'])\n",
    "overture_r_points = rasterio.open(overture_raster_points) "
   ]
  },
  {
   "cell_type": "code",
   "execution_count": null,
   "metadata": {},
   "outputs": [],
   "source": [
    "# Compare rasterized buildings with built area dataset\n",
    "### Open both datasets and threshold them to get built area data\n",
    "o_thresh = 1\n",
    "ghsl_thresh = 3000\n",
    "\n",
    "o_data = overture_r_points.read(1)\n",
    "o_data = (o_data > o_thresh).astype('uint8')\n",
    "\n",
    "ghsl_data = ghsl_r.read(1)\n",
    "ghsl_data = (ghsl_data > ghsl_thresh).astype('uint8') * 10\n",
    "\n",
    "combo_data = o_data + ghsl_data\n",
    "\n",
    "# Write out the combined data\n",
    "out_file = os.path.join(out_folder, \"overture_vs_ghsl.tif\")\n",
    "if not os.path.exists(out_file):\n",
    "    meta = overture_r_points.meta.copy()\n",
    "    meta.update(dtype=rasterio.uint8, nodata=0)\n",
    "    with rasterio.open(out_file, 'w', **meta) as out_raster:\n",
    "        out_raster.write_band(1, combo_data)\n"
   ]
  },
  {
   "cell_type": "code",
   "execution_count": null,
   "metadata": {},
   "outputs": [],
   "source": []
  }
 ],
 "metadata": {
  "kernelspec": {
   "display_name": "urban_test",
   "language": "python",
   "name": "python3"
  },
  "language_info": {
   "codemirror_mode": {
    "name": "ipython",
    "version": 3
   },
   "file_extension": ".py",
   "mimetype": "text/x-python",
   "name": "python",
   "nbconvert_exporter": "python",
   "pygments_lexer": "ipython3",
   "version": "3.12.2"
  }
 },
 "nbformat": 4,
 "nbformat_minor": 2
}
